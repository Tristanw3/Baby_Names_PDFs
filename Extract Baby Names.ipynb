{
 "cells": [
  {
   "cell_type": "code",
   "execution_count": 1,
   "metadata": {},
   "outputs": [],
   "source": [
    "import pandas as pd\n",
    "import PyPDF2 as pdf\n",
    "import re\n",
    "import os"
   ]
  },
  {
   "cell_type": "code",
   "execution_count": 2,
   "metadata": {},
   "outputs": [],
   "source": [
    "directory = './source_files/'\n"
   ]
  },
  {
   "cell_type": "code",
   "execution_count": 3,
   "metadata": {},
   "outputs": [],
   "source": [
    "files = []\n",
    "\n",
    "for filename in os.listdir(directory):\n",
    "    if filename.endswith(\".pdf\"): \n",
    "         files.append(os.path.join(directory, filename))\n"
   ]
  },
  {
   "cell_type": "code",
   "execution_count": 4,
   "metadata": {
    "code_folding": []
   },
   "outputs": [],
   "source": [
    "def get_rank_order():\n",
    "    temp_rank_order = []\n",
    "    nums_1 = [*range(1,51)]\n",
    "    nums_2 = [*range(51,101)]\n",
    "\n",
    "    for n in nums_1:\n",
    "        temp_rank_order.append(n)\n",
    "        temp_rank_order.append(nums_2[n - 1])\n",
    "    return temp_rank_order\n"
   ]
  },
  {
   "cell_type": "code",
   "execution_count": 5,
   "metadata": {},
   "outputs": [],
   "source": [
    "def get_from_list(names_list):\n",
    "    final_list = {}\n",
    "    \n",
    "    rank_order = get_rank_order()\n",
    "    \n",
    "    for i, m in enumerate(names_list):\n",
    "        rank = rank_order[i]\n",
    "        split_name_pattern = '([A-Za-z]+)(\\d{1,4})'\n",
    "        split = re.match(split_name_pattern, m)\n",
    "    \n",
    "        details = {'Name':split[1], 'Count': int(split[2])}\n",
    "        final_list[rank] = details\n",
    "    \n",
    "    return final_list"
   ]
  },
  {
   "cell_type": "code",
   "execution_count": 6,
   "metadata": {},
   "outputs": [],
   "source": [
    "def get_data_from_pdf(pdf_page):\n",
    "    pdf_text = pdf_page.extractText() \\\n",
    "        .replace(\"\\n\", \"\") \\\n",
    "        .replace(\"-\", \"\") \\\n",
    "        .replace(\" \", \"\")\n",
    "    \n",
    "    year_pattern = 'Names(\\d{1,4})'\n",
    "    year = re.findall(year_pattern, pdf_text)[0]\n",
    "    year = int(year)\n",
    "    \n",
    "    middle_nums = [*range(51,101)]\n",
    "    temp_males = []\n",
    "    temp_females = []\n",
    "\n",
    "    for ind, number in enumerate(middle_nums):\n",
    "\n",
    "        first = str(ind + 1)\n",
    "        middle = str(number)\n",
    "        end = str(ind + 2)\n",
    "        \n",
    "        name_pat = '[A-Za-z]+\\d{1,4}'\n",
    "        \n",
    "        pattern = first + '(' + name_pat + name_pat + ')' + middle + '(' + name_pat + name_pat + ')'\n",
    "        \n",
    "        pattern if number == 100 else pattern + end + '\\w'\n",
    "        \n",
    "        prog = re.compile(pattern)\n",
    "        result = prog.findall(pdf_text)\n",
    "\n",
    "        for name in result[0]:\n",
    "            new_pat = '(' + name_pat + ')(' + name_pat + ')'\n",
    "            prog = re.compile(new_pat)\n",
    "            result2 = prog.findall(name)\n",
    "            temp_males.append(result2[0][0])\n",
    "            temp_females.append(result2[0][1])\n",
    "    \n",
    "    males = get_from_list(temp_males)\n",
    "    females = get_from_list(temp_females)\n",
    "    \n",
    "    return {\"year\": year, 'males': males, 'females': females}\n"
   ]
  },
  {
   "cell_type": "code",
   "execution_count": 7,
   "metadata": {},
   "outputs": [],
   "source": [
    "final_data = {}\n",
    "\n",
    "for pdf_filename in files:\n",
    "    temp_pdf = pdf.PdfFileReader(pdf_filename)\n",
    "    num_pages = temp_pdf.getNumPages()\n",
    "    \n",
    "    for page_num in range(num_pages):\n",
    "        page = temp_pdf.getPage(page_num)\n",
    "        pdf_data = get_data_from_pdf(page)\n",
    "        final_data[pdf_data['year']] = pdf_data\n"
   ]
  },
  {
   "cell_type": "code",
   "execution_count": 9,
   "metadata": {},
   "outputs": [
    {
     "data": {
      "text/plain": [
       "68"
      ]
     },
     "execution_count": 9,
     "metadata": {},
     "output_type": "execute_result"
    }
   ],
   "source": [
    "len(final_data)"
   ]
  }
 ],
 "metadata": {
  "kernelspec": {
   "display_name": "Python 3",
   "language": "python",
   "name": "python3"
  },
  "language_info": {
   "codemirror_mode": {
    "name": "ipython",
    "version": 3
   },
   "file_extension": ".py",
   "mimetype": "text/x-python",
   "name": "python",
   "nbconvert_exporter": "python",
   "pygments_lexer": "ipython3",
   "version": "3.8.5"
  }
 },
 "nbformat": 4,
 "nbformat_minor": 4
}
